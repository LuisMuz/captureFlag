{
 "cells": [
  {
   "cell_type": "code",
   "execution_count": 4,
   "metadata": {},
   "outputs": [
    {
     "name": "stdout",
     "output_type": "stream",
     "text": [
      "['N3m3m5', 'N2m5', 'ADD', 'N1a4m2s5', 'DIV']\n"
     ]
    }
   ],
   "source": [
    "import re\n",
    "test1 = \"N4d2N0a2m2s1MUL\"\n",
    "test2 = \"N3m3m5N2m5ADDN1a4m2s5DIV\"\n",
    "match = lambda x: re.findall(r'N[a-z0-9]+|V[a-z0-9]+|[A-Z]{3}', x)\n",
    "terms = match(test2)\n",
    "print(terms)\n"
   ]
  },
  {
   "cell_type": "code",
   "execution_count": 384,
   "metadata": {},
   "outputs": [],
   "source": [
    "def extract_variable_name(code):\n",
    "  return code[::2]\n",
    "\n",
    "def process_number_operation(expr):\n",
    "    value = 0\n",
    "    current_operation = 'ADD'\n",
    "\n",
    "    # Patrón para identificar números y operaciones\n",
    "    tokens = re.findall(r'[a-zA-Z]+|\\d+', expr)\n",
    "    \n",
    "    for token in tokens:\n",
    "        if token.isdigit():\n",
    "            num = int(token)\n",
    "            if current_operation == 'ADD':\n",
    "                value += num\n",
    "            elif current_operation == 'SUB':\n",
    "                value -= num\n",
    "            elif current_operation == 'MUL':\n",
    "                value *= num\n",
    "            elif current_operation == 'DIV' and num != 0:\n",
    "                value //= num\n",
    "        else:\n",
    "            if token == 'a':\n",
    "                current_operation = 'ADD'\n",
    "            elif token == 's':\n",
    "                current_operation = 'SUB'\n",
    "            elif token == 'm':\n",
    "                current_operation = 'MUL'\n",
    "            elif token == 'd':\n",
    "                current_operation = 'DIV'\n",
    "    \n",
    "    return value\n",
    "\n",
    "def process_string(string_code):\n",
    "    return ''.join(reversed(string_code[::2]))\n",
    "\n",
    "def process_value(element):\n",
    "    if element.startswith('B'):\n",
    "        string_code = element[1:-1]\n",
    "        return process_string(string_code)\n",
    "    elif element.startswith('N'):  \n",
    "        return process_number_operation(element[:])\n",
    "    else: \n",
    "        variable_name = extract_variable_name(element[1:-1])\n",
    "        return f'var[{variable_name}]'"
   ]
  },
  {
   "cell_type": "code",
   "execution_count": 385,
   "metadata": {},
   "outputs": [
    {
     "data": {
      "text/plain": [
       "['Vvrarrr1r', 'N0a2m2s1', 'MUL']"
      ]
     },
     "execution_count": 385,
     "metadata": {},
     "output_type": "execute_result"
    }
   ],
   "source": [
    "test_st = \"Vvrarrr1rN0a2m2s1MUL\"\n",
    "test_st.rsplit(\"V\",1)\n",
    "terms = match(test_st)\n",
    "terms"
   ]
  },
  {
   "cell_type": "code",
   "execution_count": 386,
   "metadata": {},
   "outputs": [
    {
     "data": {
      "text/plain": [
       "'var1'"
      ]
     },
     "execution_count": 386,
     "metadata": {},
     "output_type": "execute_result"
    }
   ],
   "source": [
    "terms[0][1:-1:2]"
   ]
  },
  {
   "cell_type": "code",
   "execution_count": 10,
   "metadata": {},
   "outputs": [
    {
     "data": {
      "text/plain": [
       "['HOB',\n",
       " 'VkrzreryrVwrxrzr6rcrzr=',\n",
       " '|',\n",
       " 'Vsrur7r2rdrzr9rzrcrVfr7rwrurEN',\n",
       " 'BOH',\n",
       " 'Vwrwr1rordrkrN1s0ADDVwrwr1rordrkr=',\n",
       " 'Vqrer2rqrVvr9rkrurlr5r6ryrgr=',\n",
       " 'POOL',\n",
       " 'Vyrzrkr4rN1s0ADDVyrzrkr4r=',\n",
       " 'N2Vwrxrzr6rcrzr=',\n",
       " 'VkrzreryrP',\n",
       " '|',\n",
       " 'Vyrzrkr4rN2m2m2m2m2d1EL',\n",
       " 'LOOP',\n",
       " 'N2m2m2m2m2d1Vyrzrkr4r=',\n",
       " 'N2m2m2P',\n",
       " '|',\n",
       " 'Vwrwr1rordrkrN8a24m2s27TL']"
      ]
     },
     "execution_count": 10,
     "metadata": {},
     "output_type": "execute_result"
    }
   ],
   "source": [
    "cond1 = \"HOB HOB HO BebnbobtbobnbP  | N1s0N1s0QE OH B1bP  | VfrlrargrN1s0QE BOH  BsbibgbablbfbP  | VfrlrargrN1s0EG BOH\"\n",
    "cond2 = \"HOB HO HOB HO VnrurmrbrP  | N1s1N1s1QE OH  VgrrrerartrerrrP  | VgrrrerartrerrrVnrurmrbrTG BOH  | N1s1N1s1QE OH HOB HO VnrurmrbrP  | N1s1N1s1QE OH Vvrarrr1rP  | Vvrarrr1rVnrurmrbrTG BOH  | Vvrarrr1rVgrrrerartrerrrTG  BOH\"\n",
    "cond3 = \"HOB HOB BdbebibfbibdbobmbBebsbabrbhbpbADDVprhrrrarsrer=  | VmrordrirfryrN1s0EG BOH  | VprhrrrarsrerBlblbubnbEN AND VmrordrirfryrN1s1EG BOH\"\n",
    "loop1 = \"POOL Vvrarrr1rN1s0ADDVvrarrr1r=  Vvrarrr2rP  Vvrarrr1rN0a1m2a1ADDVvrarrr2r=  | Vvrarrr1rN1a0m2a3TL LOOP\"\n",
    "loop2 = \"POOL HOB VkrzreryrVwrxrzr6rcrzr=  | Vsrur7r2rdrzr9rzrcrVfr7rwrurEN BOH  Vwrwr1rordrkrN1s0ADDVwrwr1rordrkr=  Vqrer2rqrVvr9rkrurlr5r6ryrgr=  POOL Vyrzrkr4rN1s0ADDVyrzrkr4r=  N2Vwrxrzr6rcrzr=  VkrzreryrP  | Vyrzrkr4rN2m2m2m2m2d1EL LOOP  N2m2m2m2m2d1Vyrzrkr4r=  N2m2m2P  | Vwrwr1rordrkrN8a24m2s27TL LOOP\"\n",
    "\n",
    "match = lambda x, y: re.findall(r'[A-Za-z0-9_=.]+(?: OR [A-Za-z0-9_]+| AND [A-Za-z0-9_]+)?|BOH|HOB|OH|HO|[A-Za-z0-9=_]+|\\|', x[y:-y])\n",
    "\n",
    "#tokens_test = re.findall(r'[A-Za-z0-9= ]+  \\| [A-Za-z0-9]+(?: OR [A-Za-z0-9]+| AND [A-Za-z0-9]+)?', test)\n",
    "tokens = match(loop2, 4)\n",
    "tokens"
   ]
  },
  {
   "cell_type": "code",
   "execution_count": 11,
   "metadata": {},
   "outputs": [
    {
     "data": {
      "text/plain": [
       "['HOB VkrzreryrVwrxrzr6rcrzr= | Vsrur7r2rdrzr9rzrcrVfr7rwrurEN BOH',\n",
       " 'Vwrwr1rordrkrN1s0ADDVwrwr1rordrkr=',\n",
       " 'Vqrer2rqrVvr9rkrurlr5r6ryrgr=',\n",
       " 'POOL Vyrzrkr4rN1s0ADDVyrzrkr4r= N2Vwrxrzr6rcrzr= VkrzreryrP | Vyrzrkr4rN2m2m2m2m2d1EL LOOP',\n",
       " 'N2m2m2m2m2d1Vyrzrkr4r=',\n",
       " 'N2m2m2P',\n",
       " '|',\n",
       " 'Vwrwr1rordrkrN8a24m2s27TL']"
      ]
     },
     "execution_count": 11,
     "metadata": {},
     "output_type": "execute_result"
    }
   ],
   "source": [
    "def get_condition_structure(tokens):\n",
    "  g_stack = []\n",
    "  stack = []\n",
    "  counter = 0\n",
    "\n",
    "  is_condition = False\n",
    "  is_loop = False\n",
    "\n",
    "  for element in tokens:\n",
    "    if element == 'BOH' and not is_loop:\n",
    "      counter += 1\n",
    "      stack.append(element)\n",
    "      stack.append(\" \")\n",
    "    elif element == 'HOB'and not is_loop:\n",
    "      counter -= 1\n",
    "      stack.append(element)\n",
    "      stack.append(\" \")\n",
    "    elif element == 'LOOP' and not is_condition:\n",
    "      counter += 1\n",
    "      stack.append(element)\n",
    "      stack.append(\" \")\n",
    "    elif element == 'POOL'and not is_condition:\n",
    "      counter -= 1\n",
    "      stack.append(element)\n",
    "      stack.append(\" \")\n",
    "    elif counter != 0:\n",
    "      stack.append(element)\n",
    "      stack.append(\" \")\n",
    "    if counter == 0:\n",
    "      is_condition = False\n",
    "      is_loop = False\n",
    "      if len(stack) > 0:\n",
    "        g_stack.append(''.join(stack).strip())\n",
    "        stack = []\n",
    "      else:\n",
    "        g_stack.append(element)\n",
    "  return g_stack\n",
    "\n",
    "get_condition_structure(tokens)"
   ]
  },
  {
   "cell_type": "code",
   "execution_count": 389,
   "metadata": {},
   "outputs": [],
   "source": [
    "def evaluate_condition(cond):\n",
    "  option1, option2, operation = re.findall(r'N[a-z0-9]+|V[a-z0-9]+|B[a-z0-9]+|[A-Z]{2}', cond)\n",
    "  print(option1, option2, operation)\n",
    "# EN >\n",
    "# EG >=\n",
    "# EL <=\n",
    "# QE ==\n",
    "# TG !=\n",
    "# TL <\n",
    "  print(process_value(option1), end=\"\")\n",
    "  if operation == 'EN':\n",
    "    print(\"!=\", end=\"\")\n",
    "  elif operation == 'EG':\n",
    "    print(\">=\", end=\"\")\n",
    "  elif operation == 'EL':\n",
    "    print(\"<=\", end=\"\")\n",
    "  elif operation == 'QE':\n",
    "    print(\"==\", end=\"\")\n",
    "  elif operation == 'TG':\n",
    "    print(\">\", end=\"\")\n",
    "  else:\n",
    "    print(\"<\", end=\"\")\n",
    "  print(process_value(option2))\n",
    "\n",
    "  return True"
   ]
  },
  {
   "cell_type": "code",
   "execution_count": 390,
   "metadata": {},
   "outputs": [],
   "source": [
    "def execute_condition(condition):\n",
    "  if \"OR\" in condition:\n",
    "    cond1 , cond2 = condition.split(\" OR \")\n",
    "    return evaluate_condition(cond2) or evaluate_condition(cond1)\n",
    "  elif \"AND\" in condition:\n",
    "    cond1 , cond2 = condition.split(\" AND \")\n",
    "    return evaluate_condition(cond2) and evaluate_condition(cond1)\n",
    "  else:\n",
    "    return evaluate_condition(condition)\n",
    "\n",
    "def transform_to_action(line):\n",
    "  print(f'Line {line} executed')"
   ]
  },
  {
   "cell_type": "code",
   "execution_count": 398,
   "metadata": {},
   "outputs": [],
   "source": [
    "def check_condition(cond):\n",
    "  condition = match(cond)\n",
    "  conditions = get_condition_structure(condition)\n",
    "  print(conditions)\n",
    "\n",
    "  actions=[]\n",
    "  is_condition = True\n",
    "  do_actions = False\n",
    "  look_next_condition = False\n",
    "\n",
    "  for element in reversed(conditions):\n",
    "    if is_condition and not look_next_condition:\n",
    "      do_actions = execute_condition(element)\n",
    "      if do_actions : \n",
    "        is_condition = False\n",
    "        actions = []\n",
    "      else:\n",
    "        look_next_condition = True\n",
    "    else:\n",
    "      if element == \"OH\":\n",
    "        if do_actions : break\n",
    "        is_condition = True\n",
    "        look_next_condition = False\n",
    "      elif do_actions and element != \"|\" and element != \"HO\":\n",
    "        actions.append(element)\n",
    "\n",
    "  print(f'Executing {actions}')\n",
    "\n",
    "  for action in actions:\n",
    "    if \"BOH\" in action: \n",
    "      # print(action)\n",
    "      check_condition(action)\n",
    "    else:\n",
    "      transform_to_action(action)\n",
    "    \n"
   ]
  },
  {
   "cell_type": "code",
   "execution_count": 20,
   "metadata": {},
   "outputs": [
    {
     "name": "stdout",
     "output_type": "stream",
     "text": [
      "POOL HOB VkrzreryrVwrxrzr6rcrzr=  | Vsrur7r2rdrzr9rzrcrVfr7rwrurEN BOH  Vwrwr1rordrkrN1s0ADDVwrwr1rordrkr=  Vqrer2rqrVvr9rkrurlr5r6ryrgr=  POOL Vyrzrkr4rN1s0ADDVyrzrkr4r=  N2Vwrxrzr6rcrzr=  VkrzreryrP  | Vyrzrkr4rN2m2m2m2m2d1EL LOOP  N2m2m2m2m2d1Vyrzrkr4r=  N2m2m2P  | Vwrwr1rordrkrN8a24m2s27TL LOOP\n",
      "Condition Vwrwr1rordrkrN8a24m2s27TL\n",
      "N2m2m2P\n",
      "N2m2m2m2m2d1Vyrzrkr4r=\n",
      "POOL Vyrzrkr4rN1s0ADDVyrzrkr4r= N2Vwrxrzr6rcrzr= VkrzreryrP | Vyrzrkr4rN2m2m2m2m2d1EL LOOP\n",
      "Vqrer2rqrVvr9rkrurlr5r6ryrgr=\n",
      "Vwrwr1rordrkrN1s0ADDVwrwr1rordrkr=\n",
      "HOB VkrzreryrVwrxrzr6rcrzr= | Vsrur7r2rdrzr9rzrcrVfr7rwrurEN BOH\n"
     ]
    }
   ],
   "source": [
    "def check_loop(loop):\n",
    "  print(loop)\n",
    "  sintaxis = get_condition_structure(match(loop,4))\n",
    "  \n",
    "  condition = \"\"\n",
    "  actions = []\n",
    "  is_condition = True\n",
    "\n",
    "  for element in reversed(sintaxis):\n",
    "    if element == \"|\":\n",
    "      is_condition = False\n",
    "    elif is_condition:\n",
    "      condition = element\n",
    "    else:\n",
    "      actions.append(element)\n",
    "\n",
    "  print(f'Condition {condition}')\n",
    "  for action in actions:\n",
    "    print(action)\n",
    "\n",
    "check_loop(loop2)"
   ]
  }
 ],
 "metadata": {
  "kernelspec": {
   "display_name": "Python 3",
   "language": "python",
   "name": "python3"
  },
  "language_info": {
   "codemirror_mode": {
    "name": "ipython",
    "version": 3
   },
   "file_extension": ".py",
   "mimetype": "text/x-python",
   "name": "python",
   "nbconvert_exporter": "python",
   "pygments_lexer": "ipython3",
   "version": "3.12.2"
  }
 },
 "nbformat": 4,
 "nbformat_minor": 2
}
